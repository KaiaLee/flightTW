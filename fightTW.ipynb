{
  "nbformat": 4,
  "nbformat_minor": 0,
  "metadata": {
    "colab": {
      "provenance": [],
      "mount_file_id": "1Yp0cFptMjE4fnpfk_FaI5rlkloKBcN-F",
      "authorship_tag": "ABX9TyMbnex2NgPWwjrLv0TJV94/",
      "include_colab_link": true
    },
    "kernelspec": {
      "name": "python3",
      "display_name": "Python 3"
    },
    "language_info": {
      "name": "python"
    }
  },
  "cells": [
    {
      "cell_type": "markdown",
      "metadata": {
        "id": "view-in-github",
        "colab_type": "text"
      },
      "source": [
        "<a href=\"https://colab.research.google.com/github/KaiaLee/flightTW/blob/fightTW.ipynb_colab/fightTW.ipynb\" target=\"_parent\"><img src=\"https://colab.research.google.com/assets/colab-badge.svg\" alt=\"Open In Colab\"/></a>"
      ]
    },
    {
      "cell_type": "markdown",
      "source": [
        "# 台灣班機延遲時間預測"
      ],
      "metadata": {
        "id": "z03xQY5_VJeX"
      }
    },
    {
      "cell_type": "markdown",
      "source": [
        "載入套件"
      ],
      "metadata": {
        "id": "f9JOSEZSVIFC"
      }
    },
    {
      "cell_type": "code",
      "execution_count": 82,
      "metadata": {
        "id": "Q4uDbdKg6U5a"
      },
      "outputs": [],
      "source": [
        "import pandas as pd\n",
        "import numpy as np\n",
        "import matplotlib.pyplot as plt\n",
        "import seaborn as sns"
      ]
    },
    {
      "cell_type": "markdown",
      "source": [
        "合併資料"
      ],
      "metadata": {
        "id": "Bi1b1zeqVhcX"
      }
    },
    {
      "cell_type": "code",
      "source": [
        "from google.colab import drive\n",
        "drive.mount('/content/drive')\n",
        "\n",
        "import pandas as pd\n",
        "\n",
        "# 文件 ID 列表\n",
        "file_ids = [\n",
        "    '1EqM0JNdzGjhuOQL3SNCcRiAHdM2QoEcO',\n",
        "    '1TIzwBTP7jVotetZ4IkCLIiBFARSVC80n',\n",
        "    '1D0nUDKK94YF0KDAmPyj6Ll0nYtI_jbrb',\n",
        "    '1uTOwQAcWdkiAcAMUrR_f0zl-iKHuW6iV',\n",
        "    '1eAWWgt9PTZeqV7900_30cKTFvOag35pY',\n",
        "    '1nhnpqICvAcZ3qLaN6qhQfZq0PBIX1IC0',\n",
        "    '1r-yVDS-Lkpolg093cE3JWXuxFDzVJdjI',\n",
        "    '1DCHXEkXMLLErUj_fAytwFajngYD2Yw88',\n",
        "    '1aEqy4Av9M34c2BmVHejCN38UHA6tbHs7'\n",
        "]\n",
        "\n",
        "# 生成文件 URL\n",
        "file_urls = [f'https://drive.google.com/uc?id={file_id}' for file_id in file_ids]\n",
        "\n",
        "# 讀取並合併所有 CSV 文件\n",
        "data_frames = [pd.read_csv(file_url) for file_url in file_urls]\n",
        "data = pd.concat(data_frames, ignore_index=True)\n",
        "\n",
        "# 檢查合併後的數據框\n",
        "print(f\"Total number of rows: {len(data)}\")\n",
        "print(data.head())\n"
      ],
      "metadata": {
        "colab": {
          "base_uri": "https://localhost:8080/"
        },
        "id": "zymnyFoEjx3w",
        "outputId": "4508309b-e058-47ed-f677-f8dbd059334a"
      },
      "execution_count": 83,
      "outputs": [
        {
          "output_type": "stream",
          "name": "stdout",
          "text": [
            "Drive already mounted at /content/drive; to attempt to forcibly remount, call drive.mount(\"/content/drive\", force_remount=True).\n"
          ]
        },
        {
          "output_type": "stream",
          "name": "stderr",
          "text": [
            "<ipython-input-83-c76fa4dd0621>:23: DtypeWarning: Columns (12) have mixed types. Specify dtype option on import or set low_memory=False.\n",
            "  data_frames = [pd.read_csv(file_url) for file_url in file_urls]\n",
            "<ipython-input-83-c76fa4dd0621>:23: DtypeWarning: Columns (12) have mixed types. Specify dtype option on import or set low_memory=False.\n",
            "  data_frames = [pd.read_csv(file_url) for file_url in file_urls]\n",
            "<ipython-input-83-c76fa4dd0621>:23: DtypeWarning: Columns (1,12) have mixed types. Specify dtype option on import or set low_memory=False.\n",
            "  data_frames = [pd.read_csv(file_url) for file_url in file_urls]\n",
            "<ipython-input-83-c76fa4dd0621>:23: DtypeWarning: Columns (1,12) have mixed types. Specify dtype option on import or set low_memory=False.\n",
            "  data_frames = [pd.read_csv(file_url) for file_url in file_urls]\n",
            "<ipython-input-83-c76fa4dd0621>:23: DtypeWarning: Columns (1,12) have mixed types. Specify dtype option on import or set low_memory=False.\n",
            "  data_frames = [pd.read_csv(file_url) for file_url in file_urls]\n",
            "<ipython-input-83-c76fa4dd0621>:23: DtypeWarning: Columns (1,12) have mixed types. Specify dtype option on import or set low_memory=False.\n",
            "  data_frames = [pd.read_csv(file_url) for file_url in file_urls]\n",
            "<ipython-input-83-c76fa4dd0621>:23: DtypeWarning: Columns (1,12) have mixed types. Specify dtype option on import or set low_memory=False.\n",
            "  data_frames = [pd.read_csv(file_url) for file_url in file_urls]\n",
            "<ipython-input-83-c76fa4dd0621>:23: DtypeWarning: Columns (1,12) have mixed types. Specify dtype option on import or set low_memory=False.\n",
            "  data_frames = [pd.read_csv(file_url) for file_url in file_urls]\n",
            "<ipython-input-83-c76fa4dd0621>:23: DtypeWarning: Columns (12) have mixed types. Specify dtype option on import or set low_memory=False.\n",
            "  data_frames = [pd.read_csv(file_url) for file_url in file_urls]\n"
          ]
        },
        {
          "output_type": "stream",
          "name": "stdout",
          "text": [
            "Total number of rows: 4783072\n",
            "                  FlightDate FlightNumber  AirRouteType AirlineID  \\\n",
            "0  2024-08-12 00:00:00+08:00         7016           NaN        DA   \n",
            "1  2024-08-12 00:00:00+08:00         7010           NaN        DA   \n",
            "2  2024-08-12 00:00:00+08:00         7012           NaN        DA   \n",
            "3  2024-08-12 00:00:00+08:00         7016           NaN        DA   \n",
            "4  2024-08-12 00:00:00+08:00         7012           NaN        DA   \n",
            "\n",
            "  DepartureAirportID ArrivalAirportID      ScheduleDepartureTime  \\\n",
            "0                CMJ              MZG  2024-08-12 14:25:00+08:00   \n",
            "1                CMJ              KHH  2024-08-12 11:40:00+08:00   \n",
            "2                CMJ              KHH  2024-08-12 16:15:00+08:00   \n",
            "3                CMJ              MZG  2024-08-12 14:25:00+08:00   \n",
            "4                CMJ              KHH  2024-08-12 16:15:00+08:00   \n",
            "\n",
            "  ActualDepartureTime EstimatedDepartureTime DepartureRemark  \\\n",
            "0                 NaN                    NaN              準時   \n",
            "1                 NaN                    NaN              準時   \n",
            "2                 NaN                    NaN              準時   \n",
            "3                 NaN                    NaN              準時   \n",
            "4                 NaN                    NaN              準時   \n",
            "\n",
            "   DepartureRemarkEn  Terminal Gate  CodeShare  IsCargo  AcType  BaggageClaim  \\\n",
            "0                NaN       NaN  NaN        NaN    False     NaN           NaN   \n",
            "1                NaN       NaN  NaN        NaN    False     NaN           NaN   \n",
            "2                NaN       NaN  NaN        NaN    False     NaN           NaN   \n",
            "3                NaN       NaN  NaN        NaN    False     NaN           NaN   \n",
            "4                NaN       NaN  NaN        NaN    False     NaN           NaN   \n",
            "\n",
            "   CheckCounter                 UpdateTime  \n",
            "0           NaN  2024-08-12 08:19:46+08:00  \n",
            "1           NaN  2024-08-12 08:19:46+08:00  \n",
            "2           NaN  2024-08-12 08:19:46+08:00  \n",
            "3           NaN  2024-08-12 12:49:47+08:00  \n",
            "4           NaN  2024-08-12 12:49:47+08:00  \n"
          ]
        }
      ]
    },
    {
      "cell_type": "markdown",
      "source": [
        "共 4783072 筆資料\n",
        "\n",
        "---\n",
        "\n",
        "\n",
        "\n",
        "airlineID 指的是航空公司\\\n",
        "flightnumber 指的是航班編號"
      ],
      "metadata": {
        "id": "u5bO7ffKVoYX"
      }
    },
    {
      "cell_type": "markdown",
      "source": [
        "### 資料清理"
      ],
      "metadata": {
        "id": "azMhdNqdWHF4"
      }
    },
    {
      "cell_type": "code",
      "source": [
        "# 刪除不要的欄位\n",
        "data = data.drop(columns=['AirRouteType', 'EstimatedDepartureTime', 'DepartureRemarkEn', 'Terminal', 'Gate', 'CodeShare', 'AcType', 'BaggageClaim', 'DepartureRemark', 'CheckCounter', 'UpdateTime'])"
      ],
      "metadata": {
        "id": "6hFUA7LjrHAU"
      },
      "execution_count": 84,
      "outputs": []
    },
    {
      "cell_type": "code",
      "source": [
        "# 篩選出 'ActualDepartureTime' 為 NA 的行\n",
        "is_na = data['ActualDepartureTime'].isna()\n",
        "data = data.dropna(subset=['ActualDepartureTime'])"
      ],
      "metadata": {
        "id": "msRgSlCluPyu"
      },
      "execution_count": 85,
      "outputs": []
    },
    {
      "cell_type": "markdown",
      "source": [
        "### 觀察資料\n",
        "因不同航空AirlineID可能使用相同FlightNumber\\\n",
        "且聯合營運的情況下\\\n",
        "不同AirlineID、FlightNumber指的可能是同一班班機\n",
        "\n",
        "---\n",
        "以出發機場、抵達機場和實際出發時間來篩選出所有班次\\\n",
        "本次資料共 7408 班飛機班次\n"
      ],
      "metadata": {
        "id": "f4c4FbbPWYS4"
      }
    },
    {
      "cell_type": "code",
      "source": [
        "# 根據 'DepartureAirportID', 'ArrivalAirportID', 'ActualDepartureTime' 刪除重複行，保留最新一筆資料\n",
        "data = data.sort_values(by=['ActualDepartureTime'], ascending=[False])\n",
        "data = data.drop_duplicates(subset=['DepartureAirportID', 'ArrivalAirportID', 'ActualDepartureTime'], keep='last')\n",
        "\n",
        "# 查看數據筆數（行數）\n",
        "num_rows = len(data)\n",
        "print(f\"Number of rows: {num_rows}\")"
      ],
      "metadata": {
        "colab": {
          "base_uri": "https://localhost:8080/"
        },
        "id": "TAc2IGzvuUFj",
        "outputId": "7aa1e44e-169c-453e-f629-bdf8d0cb750e"
      },
      "execution_count": 86,
      "outputs": [
        {
          "output_type": "stream",
          "name": "stdout",
          "text": [
            "Number of rows: 7408\n"
          ]
        }
      ]
    },
    {
      "cell_type": "markdown",
      "source": [
        "給這 7408 班飛機同航空的同一架飛機獨立識別名稱"
      ],
      "metadata": {
        "id": "PQWUr1p9XgXu"
      }
    },
    {
      "cell_type": "code",
      "source": [
        "# 合并 'FlightNumber' 和 'Airline' 列\n",
        "data['AirlineFlight'] = data['AirlineID'] + '_' + data['FlightNumber'].astype(str)\n",
        "data = data.drop(columns=['AirlineID', 'FlightNumber'])"
      ],
      "metadata": {
        "id": "00Z-ZWNRx7oN"
      },
      "execution_count": null,
      "outputs": []
    },
    {
      "cell_type": "markdown",
      "source": [
        "## 新增'Delaymin'遲到分鐘數欄位"
      ],
      "metadata": {
        "id": "ULPtayW7X1-w"
      }
    },
    {
      "cell_type": "code",
      "source": [
        "# 將字串轉換為時間序列格式\n",
        "data['ScheduleDepartureTime'] = pd.to_datetime(data['ScheduleDepartureTime'])\n",
        "data['ActualDepartureTime'] = pd.to_datetime(data['ActualDepartureTime'])\n",
        "data['ScheduleDepartureTime'] .dt.tz"
      ],
      "metadata": {
        "colab": {
          "base_uri": "https://localhost:8080/"
        },
        "id": "AJzYBmjpvezR",
        "outputId": "ec089d4d-e587-4f3d-8bbd-f3283bd59f9e"
      },
      "execution_count": null,
      "outputs": [
        {
          "output_type": "execute_result",
          "data": {
            "text/plain": [
              "<DstTzInfo 'Asia/Taipei' LMT+8:06:00 STD>"
            ]
          },
          "metadata": {},
          "execution_count": 80
        }
      ]
    },
    {
      "cell_type": "code",
      "source": [
        "# 新增延遲時間欄位\n",
        "data['Delaymin'] = (data['ActualDepartureTime'] - data['ScheduleDepartureTime']).dt.total_seconds() / 60\n",
        "print(data)"
      ],
      "metadata": {
        "id": "DtR2VDDpv1rw",
        "colab": {
          "base_uri": "https://localhost:8080/"
        },
        "outputId": "f6387470-b9b7-4f7f-e6f5-61fe0c4ac001"
      },
      "execution_count": 95,
      "outputs": [
        {
          "output_type": "stream",
          "name": "stdout",
          "text": [
            "                        FlightDate FlightNumber AirlineID DepartureAirportID  \\\n",
            "4492667  2024-08-20 00:00:00+08:00         6537        BR                TPE   \n",
            "4484003  2024-08-20 00:00:00+08:00           24        BR                TPE   \n",
            "4653447  2024-08-20 00:00:00+08:00         5927        CI                TPE   \n",
            "4688355  2024-08-20 00:00:00+08:00           10        CI                TPE   \n",
            "4653342  2024-08-20 00:00:00+08:00           73        CI                TPE   \n",
            "...                            ...          ...       ...                ...   \n",
            "348952   2024-08-10 00:00:00+08:00         8529        SQ                TPE   \n",
            "349530   2024-08-10 00:00:00+08:00         5873        CI                TPE   \n",
            "349531   2024-08-10 00:00:00+08:00         9365        CV                TPE   \n",
            "349218   2024-08-10 00:00:00+08:00          216        IT                TPE   \n",
            "348951   2024-08-10 00:00:00+08:00         8523        SQ                TPE   \n",
            "\n",
            "        ArrivalAirportID     ScheduleDepartureTime       ActualDepartureTime  \\\n",
            "4492667              HKG 2024-08-20 23:25:00+08:00 2024-08-20 23:43:00+08:00   \n",
            "4484003              SEA 2024-08-20 23:00:00+08:00 2024-08-20 23:37:00+08:00   \n",
            "4653447              SZX 2024-08-20 23:15:00+08:00 2024-08-20 23:35:00+08:00   \n",
            "4688355              LAX 2024-08-20 23:00:00+08:00 2024-08-20 23:32:00+08:00   \n",
            "4653342              AMS 2024-08-20 23:10:00+08:00 2024-08-20 23:32:00+08:00   \n",
            "...                  ...                       ...                       ...   \n",
            "348952               SIN 2024-08-10 01:30:00+08:00 2024-08-10 01:26:00+08:00   \n",
            "349530               SIN 2024-08-10 01:10:00+08:00 2024-08-10 01:05:00+08:00   \n",
            "349531               DWC 2024-08-10 01:10:00+08:00 2024-08-10 00:56:00+08:00   \n",
            "349218               HND 2024-08-10 00:10:00+08:00 2024-08-10 00:03:00+08:00   \n",
            "348951               SIN 2024-08-10 00:05:00+08:00 2024-08-09 23:58:00+08:00   \n",
            "\n",
            "         IsCargo  Delaymin  \n",
            "4492667     True      18.0  \n",
            "4484003    False      37.0  \n",
            "4653447     True      20.0  \n",
            "4688355    False      32.0  \n",
            "4653342    False      22.0  \n",
            "...          ...       ...  \n",
            "348952     False      -4.0  \n",
            "349530      True      -5.0  \n",
            "349531      True     -14.0  \n",
            "349218     False      -7.0  \n",
            "348951     False      -7.0  \n",
            "\n",
            "[7408 rows x 9 columns]\n"
          ]
        }
      ]
    },
    {
      "cell_type": "markdown",
      "source": [
        "## 繪圖觀察 Delaymin 分布情形"
      ],
      "metadata": {
        "id": "hE76IfXaYBFC"
      }
    },
    {
      "cell_type": "code",
      "source": [
        "# 取出延遲的數據\n",
        "delaydata = data[data['Delaymin'] > 0]\n",
        "\n",
        "plt.figure(figsize=(12, 6))\n",
        "plt.scatter(x=delaydata['AirlineFlight'], y=delaydata['Delaymin'])\n",
        "plt.xlabel('DelayFlightNumber')\n",
        "plt.ylabel('Delaymin')\n",
        "plt.title('Delaymin Distribution')"
      ],
      "metadata": {
        "colab": {
          "base_uri": "https://localhost:8080/",
          "height": 438
        },
        "id": "l2TMj01AwITd",
        "outputId": "d10d71bb-cda3-483f-fa4d-208575ccb89f"
      },
      "execution_count": null,
      "outputs": [
        {
          "output_type": "execute_result",
          "data": {
            "text/plain": [
              "Text(0.5, 1.0, 'Delaymin Distribution')"
            ]
          },
          "metadata": {},
          "execution_count": 37
        },
        {
          "output_type": "display_data",
          "data": {
            "text/plain": [
              "<Figure size 1200x600 with 1 Axes>"
            ],
            "image/png": "[encoded data removed]"
          },
          "metadata": {}
        }
      ]
    },
    {
      "cell_type": "code",
      "source": [
        "# 繪製盒型圖\n",
        "plt.figure(figsize=(8, 4))\n",
        "sns.boxplot(data=delaydata, x=delaydata['Delaymin'], orient='h', width=0.5)\n",
        "plt.title('Box Plot with Quartiles')\n",
        "plt.ylim(-1, 1)\n",
        "plt.xlim(0, 100)\n",
        "\n",
        "# 計算四分位数\n",
        "Q1 = delaydata['Delaymin'].quantile(0.25)\n",
        "Q2 = delaydata['Delaymin'].median()  # 也可以用 quantile(0.50)\n",
        "Q3 = delaydata['Delaymin'].quantile(0.75)\n",
        "IQR = Q3 - Q1\n",
        "lower_bound = Q1 - 1.5 * IQR\n",
        "upper_bound = Q3 + 1.5 * IQR\n",
        "print(f\"Q1:{Q1}\")\n",
        "print(f\"Q2:{Q2}\")\n",
        "print(f\"Q3:{Q3}\")\n",
        "print(f\"lower_bound:{lower_bound}\")\n",
        "print(f\"upper_bound:{upper_bound}\")\n",
        "\n",
        "# 標示四分位数\n",
        "plt.axvline(Q1, color='red', linestyle='--', label=f'Q1 (25th percentile): {Q1:.2f}')\n",
        "plt.axvline(Q2, color='green', linestyle='--', label=f'Q2 (50th percentile): {Q2:.2f}')\n",
        "plt.axvline(Q3, color='blue', linestyle='--', label=f'Q3 (75th percentile): {Q3:.2f}')\n",
        "\n",
        "# 绘制超出范围的界限\n",
        "plt.axvline(lower_bound, color='purple', linestyle='--', label=f'Lower Bound (Q1 - 1.5 * IQR): {lower_bound:.2f}')\n",
        "plt.axvline(upper_bound, color='orange', linestyle='--', label=f'Upper Bound (Q3 + 1.5 * IQR): {upper_bound:.2f}')\n",
        "\n",
        "plt.show()"
      ],
      "metadata": {
        "colab": {
          "base_uri": "https://localhost:8080/",
          "height": 497
        },
        "id": "-mEfEsJywPs-",
        "outputId": "872be76b-b3e8-4dc0-ce44-231fe6088010"
      },
      "execution_count": null,
      "outputs": [
        {
          "output_type": "stream",
          "name": "stdout",
          "text": [
            "Q1:6.0\n",
            "Q2:12.0\n",
            "Q3:28.0\n",
            "lower_bound:-27.0\n",
            "upper_bound:61.0\n"
          ]
        },
        {
          "output_type": "display_data",
          "data": {
            "text/plain": [
              "<Figure size 800x400 with 1 Axes>"
            ],
            "image/png": "[encoded data removed]"
          },
          "metadata": {}
        }
      ]
    },
    {
      "cell_type": "markdown",
      "source": [
        "# 從原始資料中取出一周資料"
      ],
      "metadata": {
        "id": "OGkNH8m_YG5y"
      }
    },
    {
      "cell_type": "code",
      "source": [
        "data['ScheduleDepartureTime'] = pd.to_datetime(data['ScheduleDepartureTime'], errors='coerce')\n",
        "data['ActualDepartureTime'] = pd.to_datetime(data['ActualDepartureTime'], errors='coerce')\n",
        "\n",
        "start_date = pd.to_datetime('2024-08-12 00:00:00').tz_localize('Asia/Taipei')\n",
        "end_date = pd.to_datetime('2024-08-18 23:59:59').tz_localize('Asia/Taipei')\n",
        "\n",
        "filtered_data = data[(data['ScheduleDepartureTime'] >= start_date) & (data['ScheduleDepartureTime'] <= end_date)]\n",
        "\n",
        "print(filtered_data)"
      ],
      "metadata": {
        "colab": {
          "base_uri": "https://localhost:8080/"
        },
        "id": "0PIN212F5EGz",
        "outputId": "8eb96542-300b-4a85-b342-24ee22f53c35"
      },
      "execution_count": 96,
      "outputs": [
        {
          "output_type": "stream",
          "name": "stdout",
          "text": [
            "                        FlightDate FlightNumber AirlineID DepartureAirportID  \\\n",
            "3999659  2024-08-18 00:00:00+08:00           12        JX                TPE   \n",
            "3963300  2024-08-18 00:00:00+08:00          895        PR                TPE   \n",
            "4134259  2024-08-18 00:00:00+08:00            2        JX                TPE   \n",
            "4157189  2024-08-18 00:00:00+08:00         5828        SQ                TPE   \n",
            "4023885  2024-08-18 00:00:00+08:00         6529        BR                TPE   \n",
            "...                            ...          ...       ...                ...   \n",
            "743820   2024-08-12 00:00:00+08:00          722        MM                TPE   \n",
            "390252   2024-08-12 00:00:00+08:00         6017        BR                TPE   \n",
            "975829   2024-08-12 00:00:00+08:00          379        D7                TPE   \n",
            "358736   2024-08-12 00:00:00+08:00          897        TR                TPE   \n",
            "812159   2024-08-12 00:00:00+08:00          216        IT                TPE   \n",
            "\n",
            "        ArrivalAirportID     ScheduleDepartureTime       ActualDepartureTime  \\\n",
            "3999659              SFO 2024-08-18 23:45:00+08:00 2024-08-19 01:25:00+08:00   \n",
            "3963300              MNL 2024-08-18 21:15:00+08:00 2024-08-19 01:02:00+08:00   \n",
            "4134259              LAX 2024-08-18 23:25:00+08:00 2024-08-19 00:43:00+08:00   \n",
            "4157189              SFO 2024-08-18 23:30:00+08:00 2024-08-19 00:34:00+08:00   \n",
            "4023885              HKG 2024-08-18 23:55:00+08:00 2024-08-19 00:29:00+08:00   \n",
            "...                  ...                       ...                       ...   \n",
            "743820               NGO 2024-08-12 01:55:00+08:00 2024-08-12 01:43:00+08:00   \n",
            "390252               SIN 2024-08-12 02:00:00+08:00 2024-08-12 01:43:00+08:00   \n",
            "975829               KUL 2024-08-12 01:25:00+08:00 2024-08-12 01:27:00+08:00   \n",
            "358736               SIN 2024-08-12 01:30:00+08:00 2024-08-12 01:21:00+08:00   \n",
            "812159               HND 2024-08-12 00:10:00+08:00 2024-08-12 00:11:00+08:00   \n",
            "\n",
            "         IsCargo  Delaymin  \n",
            "3999659    False     100.0  \n",
            "3963300    False     227.0  \n",
            "4134259    False      78.0  \n",
            "4157189    False      64.0  \n",
            "4023885     True      34.0  \n",
            "...          ...       ...  \n",
            "743820     False     -12.0  \n",
            "390252      True     -17.0  \n",
            "975829     False       2.0  \n",
            "358736     False      -9.0  \n",
            "812159     False       1.0  \n",
            "\n",
            "[5490 rows x 9 columns]\n"
          ]
        }
      ]
    },
    {
      "cell_type": "markdown",
      "source": [
        "## 延遲時間預測的模型建置\n",
        "模型：選用 Ridge線性回歸\\\n",
        "在Ridge中使用 L2 正則化防止模型過擬合\\\n",
        "並在模型中使用了多項式特徵\\\n",
        "將原始特徵擴展為多項式的形式\\\n",
        "形成X矩陣和y矩陣\\\n",
        "捕捉非線性關係"
      ],
      "metadata": {
        "id": "MYLAKfkXYRC_"
      }
    },
    {
      "cell_type": "code",
      "source": [
        "label_encoder = LabelEncoder()\n",
        "integer_encoded = label_encoder.fit_transform(filtered_data['ArrivalAirportID'])\n",
        "\n",
        "zipped = zip(integer_encoded, filtered_data['ArrivalAirportID'])\n",
        "label_airports = list(set(zipped))\n",
        "label_airports.sort(key=lambda x: x[0])\n",
        "\n",
        "from sklearn.preprocessing import OneHotEncoder\n",
        "# 初始化 OneHotEncoder，sparse_output=False 表示輸出稠密矩阵\n",
        "onehot_encoder = OneHotEncoder(sparse_output=False)\n",
        "# 擬合轉換數據\n",
        "integer_encoded = integer_encoded.reshape(len(integer_encoded), 1)\n",
        "onehot_encoded = onehot_encoder.fit_transform(integer_encoded)\n",
        "\n",
        "# 轉換時間特徵\n",
        "filtered_data['ScheduleDepartureTime'] = pd.to_datetime(filtered_data['ScheduleDepartureTime'], errors='coerce')\n",
        "filtered_data['ActualDepartureTime'] = pd.to_datetime(filtered_data['ActualDepartureTime'], errors='coerce')\n",
        "\n",
        "# 將日期時間轉換為時間戳記\n",
        "filtered_data['ScheduleDepartureTime'] = filtered_data['ScheduleDepartureTime'].astype(np.int64) // 10**9  # 轉換為秒\n",
        "filtered_data['ActualDepartureTime'] = filtered_data['ActualDepartureTime'].astype(np.int64) // 10**9  # 轉換為秒\n",
        "\n",
        "print(filtered_data.columns)\n",
        "\n",
        "b = np.array(filtered_data[['ScheduleDepartureTime', 'ActualDepartureTime']])\n",
        "X = np.hstack((onehot_encoded, b))\n",
        "Y = np.array(filtered_data['Delaymin'])\n",
        "Y = Y.reshape(len(Y), 1)\n",
        "\n",
        "print(X.shape)\n",
        "print(Y.shape)\n",
        "\n",
        "from sklearn.model_selection import train_test_split\n",
        "X_train, X_test, Y_train, Y_test = train_test_split(X, Y, test_size=0.25)\n",
        "\n",
        "import numpy as np\n",
        "from sklearn.linear_model import Ridge\n",
        "from sklearn.preprocessing import PolynomialFeatures, StandardScaler\n",
        "from sklearn import metrics\n",
        "\n",
        "# 初始化最佳得分和参数\n",
        "score_min = float('inf')\n",
        "parameters = []\n",
        "\n",
        "# 用迴圈找最佳的PolynomialFeatures多項式階數 和 alpha\n",
        "for pol_order in range(1, 3):\n",
        "    for alpha in range(0, 20, 2):\n",
        "        # 創建多項式特徵\n",
        "        poly = PolynomialFeatures(degree=pol_order)\n",
        "        X_train_poly = poly.fit_transform(X_train)\n",
        "\n",
        "        # 標準化特徵\n",
        "        scaler = StandardScaler()\n",
        "        X_train_scaled = scaler.fit_transform(X_train_poly)\n",
        "\n",
        "        # 創建 Ridge 回歸模型\n",
        "        ridgereg = Ridge(alpha=alpha / 10)\n",
        "        ridgereg.fit(X_train_scaled, Y_train)\n",
        "\n",
        "        # 處理測試數據\n",
        "        X_test_poly = poly.transform(X_test)\n",
        "        X_test_scaled = scaler.transform(X_test_poly)\n",
        "        result = ridgereg.predict(X_test_scaled)\n",
        "        score = metrics.mean_squared_error(Y_test, result)\n",
        "\n",
        "        # 更新最佳參數\n",
        "        if score < score_min:\n",
        "            score_min = score\n",
        "            parameters = [alpha / 10, pol_order]\n",
        "\n",
        "        print(f\"n={pol_order} alpha={alpha / 10} , MSE = {score:.5f}\")\n",
        "\n",
        "# 使用最佳參數重新訓練模型\n",
        "poly = PolynomialFeatures(degree=parameters[1])\n",
        "X_poly = poly.fit_transform(X)\n",
        "\n",
        "scaler = StandardScaler()\n",
        "X_scaled = scaler.fit_transform(X_poly)\n",
        "\n",
        "ridgereg = Ridge(alpha=parameters[0])\n",
        "ridgereg.fit(X_scaled, Y)\n",
        "\n",
        "# 進行預測\n",
        "result = ridgereg.predict(X_scaled)\n",
        "score = metrics.mean_squared_error(Y, result)\n",
        "print(f'調整參數 MSE　比較 = {score:.2f}')\n",
        "\n",
        "# 將y做標籤\n",
        "label_conversion = {s[1]: s[0] for s in label_airports}\n",
        "filtered_data['Delaymin'] = filtered_data['Delaymin'].replace(label_conversion)\n",
        "\n",
        "# 生成特徵矩陣\n",
        "matrix = np.array([])  # 創建空模\n",
        "for index, label in label_airports:\n",
        "    temp = filtered_data['ArrivalAirportID'] == index\n",
        "    temp = temp.apply(lambda x: 1.0 if x else 0.0)\n",
        "    temp = np.array(temp)\n",
        "    if matrix.size == 0:\n",
        "        matrix = temp\n",
        "    else:\n",
        "        matrix = np.vstack((matrix, temp))\n",
        "matrix = matrix.T"
      ],
      "metadata": {
        "colab": {
          "base_uri": "https://localhost:8080/"
        },
        "id": "B2oQqwOf97DS",
        "outputId": "d6361d01-1034-4353-c28a-58b577adbbd0"
      },
      "execution_count": 100,
      "outputs": [
        {
          "output_type": "stream",
          "name": "stderr",
          "text": [
            "<ipython-input-100-fbd2c5a85c40>:16: SettingWithCopyWarning: \n",
            "A value is trying to be set on a copy of a slice from a DataFrame.\n",
            "Try using .loc[row_indexer,col_indexer] = value instead\n",
            "\n",
            "See the caveats in the documentation: https://pandas.pydata.org/pandas-docs/stable/user_guide/indexing.html#returning-a-view-versus-a-copy\n",
            "  filtered_data['ScheduleDepartureTime'] = pd.to_datetime(data['ScheduleDepartureTime'], errors='coerce')\n",
            "<ipython-input-100-fbd2c5a85c40>:17: SettingWithCopyWarning: \n",
            "A value is trying to be set on a copy of a slice from a DataFrame.\n",
            "Try using .loc[row_indexer,col_indexer] = value instead\n",
            "\n",
            "See the caveats in the documentation: https://pandas.pydata.org/pandas-docs/stable/user_guide/indexing.html#returning-a-view-versus-a-copy\n",
            "  filtered_data['ActualDepartureTime'] = pd.to_datetime(filtered_data['ActualDepartureTime'], errors='coerce')\n",
            "<ipython-input-100-fbd2c5a85c40>:20: SettingWithCopyWarning: \n",
            "A value is trying to be set on a copy of a slice from a DataFrame.\n",
            "Try using .loc[row_indexer,col_indexer] = value instead\n",
            "\n",
            "See the caveats in the documentation: https://pandas.pydata.org/pandas-docs/stable/user_guide/indexing.html#returning-a-view-versus-a-copy\n",
            "  filtered_data['ScheduleDepartureTime'] = filtered_data['ScheduleDepartureTime'].astype(np.int64) // 10**9  # 轉換為秒\n",
            "<ipython-input-100-fbd2c5a85c40>:21: SettingWithCopyWarning: \n",
            "A value is trying to be set on a copy of a slice from a DataFrame.\n",
            "Try using .loc[row_indexer,col_indexer] = value instead\n",
            "\n",
            "See the caveats in the documentation: https://pandas.pydata.org/pandas-docs/stable/user_guide/indexing.html#returning-a-view-versus-a-copy\n",
            "  filtered_data['ActualDepartureTime'] = filtered_data['ActualDepartureTime'].astype(np.int64) // 10**9  # 轉換為秒\n"
          ]
        },
        {
          "output_type": "stream",
          "name": "stdout",
          "text": [
            "Index(['FlightDate', 'FlightNumber', 'AirlineID', 'DepartureAirportID',\n",
            "       'ArrivalAirportID', 'ScheduleDepartureTime', 'ActualDepartureTime',\n",
            "       'IsCargo', 'Delaymin'],\n",
            "      dtype='object')\n",
            "(5490, 118)\n",
            "(5490, 1)\n",
            "n=1 alpha=0.0 , MSE = 49646399441661133945112100864.00000\n",
            "n=1 alpha=0.2 , MSE = 3964.63815\n",
            "n=1 alpha=0.4 , MSE = 3964.63252\n",
            "n=1 alpha=0.6 , MSE = 3964.62689\n",
            "n=1 alpha=0.8 , MSE = 3964.62126\n",
            "n=1 alpha=1.0 , MSE = 3964.61564\n",
            "n=1 alpha=1.2 , MSE = 3964.61002\n",
            "n=1 alpha=1.4 , MSE = 3964.60440\n",
            "n=1 alpha=1.6 , MSE = 3964.59878\n",
            "n=1 alpha=1.8 , MSE = 3964.59316\n"
          ]
        },
        {
          "output_type": "stream",
          "name": "stderr",
          "text": [
            "/usr/local/lib/python3.10/dist-packages/sklearn/linear_model/_ridge.py:239: UserWarning: Singular matrix in solving dual problem. Using least-squares solution instead.\n",
            "  warnings.warn(\n"
          ]
        },
        {
          "output_type": "stream",
          "name": "stdout",
          "text": [
            "n=2 alpha=0.0 , MSE = 3948.99319\n",
            "n=2 alpha=0.2 , MSE = 3964.60795\n",
            "n=2 alpha=0.4 , MSE = 3964.62575\n",
            "n=2 alpha=0.6 , MSE = 3964.63075\n",
            "n=2 alpha=0.8 , MSE = 3964.63255\n",
            "n=2 alpha=1.0 , MSE = 3964.63306\n",
            "n=2 alpha=1.2 , MSE = 3964.63294\n",
            "n=2 alpha=1.4 , MSE = 3964.63245\n",
            "n=2 alpha=1.6 , MSE = 3964.63173\n",
            "n=2 alpha=1.8 , MSE = 3964.63085\n"
          ]
        },
        {
          "output_type": "stream",
          "name": "stderr",
          "text": [
            "/usr/local/lib/python3.10/dist-packages/sklearn/linear_model/_ridge.py:239: UserWarning: Singular matrix in solving dual problem. Using least-squares solution instead.\n",
            "  warnings.warn(\n"
          ]
        },
        {
          "output_type": "stream",
          "name": "stdout",
          "text": [
            "調整參數 MSE　比較 = 3417.05\n"
          ]
        },
        {
          "output_type": "stream",
          "name": "stderr",
          "text": [
            "<ipython-input-100-fbd2c5a85c40>:90: SettingWithCopyWarning: \n",
            "A value is trying to be set on a copy of a slice from a DataFrame.\n",
            "Try using .loc[row_indexer,col_indexer] = value instead\n",
            "\n",
            "See the caveats in the documentation: https://pandas.pydata.org/pandas-docs/stable/user_guide/indexing.html#returning-a-view-versus-a-copy\n",
            "  filtered_data['Delaymin'] = filtered_data['Delaymin'].replace(label_conversion)\n"
          ]
        }
      ]
    },
    {
      "cell_type": "markdown",
      "source": [
        "將抵達機場做單熱編碼\\\n",
        "並轉換日期為時間戳記"
      ],
      "metadata": {
        "id": "w9bE-6D1bX7k"
      }
    },
    {
      "cell_type": "markdown",
      "source": [
        "# 訓練集 vs 測試集 MSE分數比較\n"
      ],
      "metadata": {
        "id": "wcBo9aefcIft"
      }
    },
    {
      "cell_type": "code",
      "source": [
        "##### 訓練集的 Ridge 回歸模型\n",
        "# 創建多項式特徵\n",
        "poly = PolynomialFeatures(degree=2)\n",
        "X_train_poly = poly.fit_transform(X_train)\n",
        "\n",
        "# 標準化特徵\n",
        "scaler = StandardScaler()\n",
        "X_train_scaled = scaler.fit_transform(X_train_poly)\n",
        "\n",
        "# 創建 Ridge 回歸模型\n",
        "ridgereg = Ridge(alpha=1.0)  # 你可以调整 alpha 值\n",
        "ridgereg.fit(X_train_scaled, Y_train)\n",
        "\n",
        "# 在訓練集上预测\n",
        "Y_train_pred = ridgereg.predict(X_train_scaled)\n",
        "\n",
        "# 計算訓練集 MSE\n",
        "train_mse = metrics.mean_squared_error(Y_train, Y_train_pred)\n",
        "print(f'訓練集 MSE: {train_mse:.2f}')"
      ],
      "metadata": {
        "colab": {
          "base_uri": "https://localhost:8080/"
        },
        "id": "h1nBIoaeRIzZ",
        "outputId": "84dc1464-1ff5-4340-bc3a-f4221e47c297"
      },
      "execution_count": 101,
      "outputs": [
        {
          "output_type": "stream",
          "name": "stdout",
          "text": [
            "訓練集 MSE: 3115.79\n"
          ]
        }
      ]
    },
    {
      "cell_type": "code",
      "source": [
        "# X 為抵達機場與時間相關特徵；y 為標籤後的遲到分鐘數\n",
        "b = np.array(filtered_data[['ScheduleDepartureTime', 'ActualDepartureTime']])\n",
        "X_test = np.hstack((matrix, b))\n",
        "Y_test = np.array(filtered_data['Delaymin'])\n",
        "Y_test = Y_test.reshape(len(Y_test), 1)\n",
        "\n",
        "# 創建多項式特徵\n",
        "poly = PolynomialFeatures(degree=2)\n",
        "X_test_poly = poly.fit_transform(X_test)\n",
        "\n",
        "# 標準化特徵\n",
        "scaler = StandardScaler()\n",
        "X_test_scaled = scaler.fit_transform(X_test_poly)\n",
        "\n",
        "# 創建 Ridge 回歸模型，並在測試集上訓練並預測\n",
        "ridgereg = Ridge(alpha=1.0)\n",
        "result = ridgereg.fit(X_test_poly, Y_test).predict(X_test_poly)\n",
        "\n",
        "# 計算測試集 MSE\n",
        "score = metrics.mean_squared_error(Y_test, result)\n",
        "print(f'測試集 MSE = {score:.2f}')"
      ],
      "metadata": {
        "colab": {
          "base_uri": "https://localhost:8080/"
        },
        "id": "ugkInJTQcwRg",
        "outputId": "5e64a1ef-3f3d-472a-eb4b-3994f6895374"
      },
      "execution_count": 102,
      "outputs": [
        {
          "output_type": "stream",
          "name": "stderr",
          "text": [
            "/usr/local/lib/python3.10/dist-packages/sklearn/linear_model/_ridge.py:239: UserWarning: Singular matrix in solving dual problem. Using least-squares solution instead.\n",
            "  warnings.warn(\n"
          ]
        },
        {
          "output_type": "stream",
          "name": "stdout",
          "text": [
            "測試集 MSE = 3888.34\n"
          ]
        }
      ]
    },
    {
      "cell_type": "markdown",
      "source": [
        "# 結論\n",
        "訓練集 MSE: 3115.79\\\n",
        "測試集 MSE: 3888.34\\\n",
        "模型可能存在過擬合，因此在訓練集上表現較好，在新的資料上表現較差。多項式回歸容易導致過擬合，因此除了以多項式得階數、正則化和alpha值調整之外，可再重新評估並選擇特徵、或使用其他模型如決策術或隨機森林，來找出最佳模型。"
      ],
      "metadata": {
        "id": "Q86-1s0eeeeG"
      }
    },
    {
      "cell_type": "code",
      "source": [
        "start_date = pd.to_datetime('2024-08-19 00:00:00').tz_localize('Asia/Taipei')\n",
        "end_date = pd.to_datetime('2024-08-19 23:59:59').tz_localize('Asia/Taipei')\n",
        "\n",
        "filtered_data_0819 = data[(data['ScheduleDepartureTime'] >= start_date) & (data['ScheduleDepartureTime'] <= end_date)]\n",
        "\n",
        "print(filtered_data_0819)"
      ],
      "metadata": {
        "colab": {
          "base_uri": "https://localhost:8080/"
        },
        "id": "mnkoyGzl-nyd",
        "outputId": "d1aca215-cfc2-44b2-ffd5-d3dc4f5496c0"
      },
      "execution_count": 110,
      "outputs": [
        {
          "output_type": "stream",
          "name": "stdout",
          "text": [
            "                        FlightDate FlightNumber AirlineID DepartureAirportID  \\\n",
            "4625399  2024-08-19 00:00:00+08:00           95        BR                TPE   \n",
            "4565175  2024-08-19 00:00:00+08:00         7735        DL                TPE   \n",
            "4521026  2024-08-19 00:00:00+08:00            2        JX                TPE   \n",
            "4655396  2024-08-19 00:00:00+08:00         7725        DL                TPE   \n",
            "4441093  2024-08-19 00:00:00+08:00           16        BR                TPE   \n",
            "...                            ...          ...       ...                ...   \n",
            "4587062  2024-08-19 00:00:00+08:00          722        MM                TPE   \n",
            "4491987  2024-08-19 00:00:00+08:00          897        TR                TPE   \n",
            "4548506  2024-08-19 00:00:00+08:00          379        D7                TPE   \n",
            "4578356  2024-08-19 00:00:00+08:00         5116        CI                TPE   \n",
            "4460544  2024-08-19 00:00:00+08:00          216        IT                TPE   \n",
            "\n",
            "        ArrivalAirportID     ScheduleDepartureTime       ActualDepartureTime  \\\n",
            "4625399              MXP 2024-08-19 23:55:00+08:00 2024-08-20 00:40:00+08:00   \n",
            "4565175              LAX 2024-08-19 23:50:00+08:00 2024-08-20 00:36:00+08:00   \n",
            "4521026              LAX 2024-08-19 23:40:00+08:00 2024-08-20 00:34:00+08:00   \n",
            "4655396              SFO 2024-08-19 23:30:00+08:00 2024-08-20 00:25:00+08:00   \n",
            "4441093              LAX 2024-08-19 23:55:00+08:00 2024-08-20 00:21:00+08:00   \n",
            "...                  ...                       ...                       ...   \n",
            "4587062              NGO 2024-08-19 01:55:00+08:00 2024-08-19 01:45:00+08:00   \n",
            "4491987              SIN 2024-08-19 01:30:00+08:00 2024-08-19 01:22:00+08:00   \n",
            "4548506              KUL 2024-08-19 01:25:00+08:00 2024-08-19 01:16:00+08:00   \n",
            "4578356              LAX 2024-08-19 01:10:00+08:00 2024-08-19 01:02:00+08:00   \n",
            "4460544              HND 2024-08-19 00:10:00+08:00 2024-08-19 00:02:00+08:00   \n",
            "\n",
            "         IsCargo  Delaymin  \n",
            "4625399    False      45.0  \n",
            "4565175    False      46.0  \n",
            "4521026    False      54.0  \n",
            "4655396    False      55.0  \n",
            "4441093    False      26.0  \n",
            "...          ...       ...  \n",
            "4587062    False     -10.0  \n",
            "4491987    False      -8.0  \n",
            "4548506    False      -9.0  \n",
            "4578356     True      -8.0  \n",
            "4460544    False      -8.0  \n",
            "\n",
            "[762 rows x 9 columns]\n"
          ]
        }
      ]
    },
    {
      "cell_type": "markdown",
      "source": [
        "將 0819 共 762 班飛機航班的特徵丟進模型做預測"
      ],
      "metadata": {
        "id": "OlQVOmujmMwt"
      }
    },
    {
      "cell_type": "code",
      "source": [
        "print(type(label_airports))  # 應該顯示 <class 'list'>\n",
        "print(label_airports)        # 檢查列表的內容"
      ],
      "metadata": {
        "colab": {
          "base_uri": "https://localhost:8080/"
        },
        "id": "UbUP9YzRv0jG",
        "outputId": "1fe3d6ef-05ca-4a48-faf0-1761bce9d4c7"
      },
      "execution_count": 135,
      "outputs": [
        {
          "output_type": "stream",
          "name": "stdout",
          "text": [
            "<class 'list'>\n",
            "[(0, 'ANC'), (1, 'BKI'), (2, 'BKK'), (3, 'BNE'), (4, 'CAN'), (5, 'CDG'), (6, 'CEB'), (7, 'CGK'), (8, 'CGO'), (9, 'CJJ'), (10, 'CJU'), (11, 'CMJ'), (12, 'CNX'), (13, 'CRK'), (14, 'CTS'), (15, 'CYI'), (16, 'DAD'), (17, 'DMK'), (18, 'DPS'), (19, 'DXB'), (20, 'FOC'), (21, 'FRA'), (22, 'FUK'), (23, 'GMP'), (24, 'GNI'), (25, 'HAN'), (26, 'HGH'), (27, 'HIJ'), (28, 'HKD'), (29, 'HKG'), (30, 'HND'), (31, 'IAH'), (32, 'ICN'), (33, 'IST'), (34, 'JFK'), (35, 'KHH'), (36, 'KIJ'), (37, 'KIX'), (38, 'KMJ'), (39, 'KMQ'), (40, 'KNH'), (41, 'KUL'), (42, 'KYD'), (43, 'LAX'), (44, 'LHR'), (45, 'LZN'), (46, 'MEL'), (47, 'MFK'), (48, 'MFM'), (49, 'MNL'), (50, 'MUC'), (51, 'MXP'), (52, 'MZG'), (53, 'NGB'), (54, 'NGO'), (55, 'NKG'), (56, 'NRT'), (57, 'OKA'), (58, 'OKJ'), (59, 'ONT'), (60, 'ORD'), (61, 'PEK'), (62, 'PEN'), (63, 'PNH'), (64, 'PQC'), (65, 'PUS'), (66, 'PVG'), (67, 'RMQ'), (68, 'ROR'), (69, 'SDJ'), (70, 'SEA'), (71, 'SFO'), (72, 'SGN'), (73, 'SHA'), (74, 'SIN'), (75, 'SZX'), (76, 'TAE'), (77, 'TFU'), (78, 'TNN'), (79, 'TSA'), (80, 'TTT'), (81, 'VIE'), (82, 'WOT'), (83, 'WUH'), (84, 'XMN'), (85, 'YVR'), (86, 'YYZ')]\n"
          ]
        }
      ]
    },
    {
      "cell_type": "code",
      "source": [
        "# 原始的機場標籤列表\n",
        "training_airports = set(filtered_data['ArrivalAirportID'].unique())\n",
        "\n",
        "# 新數據中的機場標籤\n",
        "new_airports = set(filtered_data_0819['ArrivalAirportID'].unique())\n",
        "\n",
        "# 合併所有機場標籤並去除重複\n",
        "all_airports = sorted(training_airports.union(new_airports))\n",
        "\n",
        "\n",
        "# 創建機場到索引的映射\n",
        "airport_to_index = {airport: index for index, airport in enumerate(all_airports)}\n",
        "\n",
        "# 打印索引映射\n",
        "print(\"Airport to Index Mapping:\")\n",
        "for airport, index in airport_to_index.items():\n",
        "    print(f\"{airport}: {index}\")"
      ],
      "metadata": {
        "colab": {
          "base_uri": "https://localhost:8080/"
        },
        "id": "fv_8lzO63w4B",
        "outputId": "93457743-5946-45f3-bfcf-0f0fbdad5d64"
      },
      "execution_count": 137,
      "outputs": [
        {
          "output_type": "stream",
          "name": "stdout",
          "text": [
            "Airport to Index Mapping:\n",
            "AKJ: 0\n",
            "AKL: 1\n",
            "AMS: 2\n",
            "ANC: 3\n",
            "AXT: 4\n",
            "BKI: 5\n",
            "BKK: 6\n",
            "BNE: 7\n",
            "BOM: 8\n",
            "BWN: 9\n",
            "CAN: 10\n",
            "CDG: 11\n",
            "CEB: 12\n",
            "CGK: 13\n",
            "CGO: 14\n",
            "CJJ: 15\n",
            "CJU: 16\n",
            "CKG: 17\n",
            "CMJ: 18\n",
            "CNX: 19\n",
            "CRK: 20\n",
            "CTS: 21\n",
            "CYI: 22\n",
            "DAD: 23\n",
            "DEL: 24\n",
            "DMK: 25\n",
            "DPS: 26\n",
            "DSX: 27\n",
            "DWC: 28\n",
            "DXB: 29\n",
            "FCO: 30\n",
            "FKS: 31\n",
            "FOC: 32\n",
            "FRA: 33\n",
            "FUK: 34\n",
            "GMP: 35\n",
            "GNI: 36\n",
            "GYD: 37\n",
            "HAN: 38\n",
            "HGH: 39\n",
            "HIJ: 40\n",
            "HKD: 41\n",
            "HKG: 42\n",
            "HKT: 43\n",
            "HNA: 44\n",
            "HND: 45\n",
            "HSG: 46\n",
            "HUN: 47\n",
            "IAH: 48\n",
            "IBR: 49\n",
            "ICN: 50\n",
            "IST: 51\n",
            "JFK: 52\n",
            "KCZ: 53\n",
            "KHH: 54\n",
            "KIJ: 55\n",
            "KIX: 56\n",
            "KMJ: 57\n",
            "KMQ: 58\n",
            "KNH: 59\n",
            "KOJ: 60\n",
            "KUL: 61\n",
            "KYD: 62\n",
            "LAX: 63\n",
            "LHR: 64\n",
            "LZN: 65\n",
            "MEL: 66\n",
            "MFK: 67\n",
            "MFM: 68\n",
            "MNL: 69\n",
            "MPH: 70\n",
            "MUC: 71\n",
            "MXP: 72\n",
            "MYJ: 73\n",
            "MZG: 74\n",
            "NGB: 75\n",
            "NGO: 76\n",
            "NKG: 77\n",
            "NRT: 78\n",
            "OKA: 79\n",
            "OKJ: 80\n",
            "ONT: 81\n",
            "ORD: 82\n",
            "PEK: 83\n",
            "PEN: 84\n",
            "PNH: 85\n",
            "PQC: 86\n",
            "PRG: 87\n",
            "PUS: 88\n",
            "PVG: 89\n",
            "RGN: 90\n",
            "RMQ: 91\n",
            "ROR: 92\n",
            "SDJ: 93\n",
            "SEA: 94\n",
            "SFO: 95\n",
            "SGN: 96\n",
            "SHA: 97\n",
            "SHJ: 98\n",
            "SIN: 99\n",
            "SYD: 100\n",
            "SZX: 101\n",
            "TAE: 102\n",
            "TAK: 103\n",
            "TAO: 104\n",
            "TFU: 105\n",
            "TNN: 106\n",
            "TSA: 107\n",
            "TTT: 108\n",
            "VIE: 109\n",
            "VII: 110\n",
            "WOT: 111\n",
            "WUH: 112\n",
            "XMN: 113\n",
            "YVR: 114\n",
            "YYZ: 115\n"
          ]
        }
      ]
    },
    {
      "cell_type": "code",
      "source": [
        "# 創建特徵矩陣模板\n",
        "feature_matrix_template = np.zeros((len(filtered_data_0819), len(all_airports)))\n",
        "\n",
        "# 填充特徵矩陣\n",
        "for i, airport_id in enumerate(filtered_data_0819['ArrivalAirportID']):\n",
        "    if airport_id in airport_to_index:\n",
        "        feature_matrix_template[i, airport_to_index[airport_id]] = 1.0\n",
        "\n",
        "print(feature_matrix_template)"
      ],
      "metadata": {
        "colab": {
          "base_uri": "https://localhost:8080/"
        },
        "id": "0KmXRivYvT2x",
        "outputId": "70e0cbe5-af63-4af9-b5d0-041b6651f60b"
      },
      "execution_count": 139,
      "outputs": [
        {
          "output_type": "stream",
          "name": "stdout",
          "text": [
            "[[0. 0. 0. ... 0. 0. 0.]\n",
            " [0. 0. 0. ... 0. 0. 0.]\n",
            " [0. 0. 0. ... 0. 0. 0.]\n",
            " ...\n",
            " [0. 0. 0. ... 0. 0. 0.]\n",
            " [0. 0. 0. ... 0. 0. 0.]\n",
            " [0. 0. 0. ... 0. 0. 0.]]\n"
          ]
        }
      ]
    },
    {
      "cell_type": "code",
      "source": [
        "# 提取特徵\n",
        "b = np.array(filtered_data_0819[['ScheduleDepartureTime', 'ActualDepartureTime']])\n",
        "\n",
        "# 假設 matrix 是你之前訓練中用過的其他特徵\n",
        "X = np.hstack((feature_matrix_template, b))\n",
        "\n",
        "# 創建多項式特徵\n",
        "X_poly = poly.transform(X)\n",
        "\n",
        "# 標準化特徵\n",
        "X_scaled = scaler.transform(X_poly)\n",
        "\n",
        "# 使用訓練好的 Ridge 回歸模型進行預測\n",
        "predicted_delays = ridgereg.predict(X_scaled)\n",
        "\n",
        "# 這裡可以將預測結果存入 DataFrame 或進行其他操作\n",
        "filtered_data_0819['PredictedDelay'] = predicted_delays\n",
        "\n",
        "# 輸出或保存預測結果\n",
        "print(filtered_data_0819[['ScheduleDepartureTime', 'ActualDepartureTime', 'PredictedDelay']])\n",
        "\n"
      ],
      "metadata": {
        "colab": {
          "base_uri": "https://localhost:8080/"
        },
        "id": "53JQ-7DLmaht",
        "outputId": "b3b30382-cd66-4d9b-af8a-8f4cf9801fe6"
      },
      "execution_count": 140,
      "outputs": [
        {
          "output_type": "stream",
          "name": "stdout",
          "text": [
            "         ScheduleDepartureTime  ActualDepartureTime  PredictedDelay\n",
            "4625399             1724082900           1724085600   -94326.352333\n",
            "4565175             1724082600           1724085360   -94326.352333\n",
            "4521026             1724082000           1724085240   -94326.352334\n",
            "4655396             1724081400           1724084700   -94326.352334\n",
            "4441093             1724082900           1724084460   -94326.352334\n",
            "...                        ...                  ...             ...\n",
            "4587062             1724003700           1724003100   -94326.352340\n",
            "4491987             1724002200           1724001720   -94326.352340\n",
            "4548506             1724001900           1724001360   -94326.352340\n",
            "4578356             1724001000           1724000520   -94326.352340\n",
            "4460544             1723997400           1723996920   -94326.352340\n",
            "\n",
            "[762 rows x 3 columns]\n"
          ]
        },
        {
          "output_type": "stream",
          "name": "stderr",
          "text": [
            "<ipython-input-140-bea198585428>:17: SettingWithCopyWarning: \n",
            "A value is trying to be set on a copy of a slice from a DataFrame.\n",
            "Try using .loc[row_indexer,col_indexer] = value instead\n",
            "\n",
            "See the caveats in the documentation: https://pandas.pydata.org/pandas-docs/stable/user_guide/indexing.html#returning-a-view-versus-a-copy\n",
            "  filtered_data_0819['PredictedDelay'] = predicted_delays\n"
          ]
        }
      ]
    },
    {
      "cell_type": "code",
      "source": [
        "# 將 Unix 時間戳轉換為日期時間格式\n",
        "filtered_data_0819['ScheduleDepartureTime'] = pd.to_datetime(filtered_data_0819['ScheduleDepartureTime'], unit='s')\n",
        "filtered_data_0819['ActualDepartureTime'] = pd.to_datetime(filtered_data_0819['ActualDepartureTime'], unit='s')\n",
        "\n",
        "# 將 PredictedDelay 轉換為分鐘數\n",
        "filtered_data_0819['PredictedDelayMinutes'] = filtered_data_0819['PredictedDelay'] / 60\n",
        "\n",
        "# 顯示結果\n",
        "print(filtered_data_0819[['ScheduleDepartureTime', 'ActualDepartureTime', 'PredictedDelayMinutes']])"
      ],
      "metadata": {
        "colab": {
          "base_uri": "https://localhost:8080/"
        },
        "id": "ZdjkI_aC49c5",
        "outputId": "a9bcbc10-cbd2-4752-ba8a-1513217e274c"
      },
      "execution_count": 141,
      "outputs": [
        {
          "output_type": "stream",
          "name": "stdout",
          "text": [
            "        ScheduleDepartureTime ActualDepartureTime  PredictedDelayMinutes\n",
            "4625399   2024-08-19 15:55:00 2024-08-19 16:40:00           -1572.105872\n",
            "4565175   2024-08-19 15:50:00 2024-08-19 16:36:00           -1572.105872\n",
            "4521026   2024-08-19 15:40:00 2024-08-19 16:34:00           -1572.105872\n",
            "4655396   2024-08-19 15:30:00 2024-08-19 16:25:00           -1572.105872\n",
            "4441093   2024-08-19 15:55:00 2024-08-19 16:21:00           -1572.105872\n",
            "...                       ...                 ...                    ...\n",
            "4587062   2024-08-18 17:55:00 2024-08-18 17:45:00           -1572.105872\n",
            "4491987   2024-08-18 17:30:00 2024-08-18 17:22:00           -1572.105872\n",
            "4548506   2024-08-18 17:25:00 2024-08-18 17:16:00           -1572.105872\n",
            "4578356   2024-08-18 17:10:00 2024-08-18 17:02:00           -1572.105872\n",
            "4460544   2024-08-18 16:10:00 2024-08-18 16:02:00           -1572.105872\n",
            "\n",
            "[762 rows x 3 columns]\n"
          ]
        },
        {
          "output_type": "stream",
          "name": "stderr",
          "text": [
            "<ipython-input-141-200d1fbc5d65>:2: SettingWithCopyWarning: \n",
            "A value is trying to be set on a copy of a slice from a DataFrame.\n",
            "Try using .loc[row_indexer,col_indexer] = value instead\n",
            "\n",
            "See the caveats in the documentation: https://pandas.pydata.org/pandas-docs/stable/user_guide/indexing.html#returning-a-view-versus-a-copy\n",
            "  filtered_data_0819['ScheduleDepartureTime'] = pd.to_datetime(filtered_data_0819['ScheduleDepartureTime'], unit='s')\n",
            "<ipython-input-141-200d1fbc5d65>:3: SettingWithCopyWarning: \n",
            "A value is trying to be set on a copy of a slice from a DataFrame.\n",
            "Try using .loc[row_indexer,col_indexer] = value instead\n",
            "\n",
            "See the caveats in the documentation: https://pandas.pydata.org/pandas-docs/stable/user_guide/indexing.html#returning-a-view-versus-a-copy\n",
            "  filtered_data_0819['ActualDepartureTime'] = pd.to_datetime(filtered_data_0819['ActualDepartureTime'], unit='s')\n",
            "<ipython-input-141-200d1fbc5d65>:6: SettingWithCopyWarning: \n",
            "A value is trying to be set on a copy of a slice from a DataFrame.\n",
            "Try using .loc[row_indexer,col_indexer] = value instead\n",
            "\n",
            "See the caveats in the documentation: https://pandas.pydata.org/pandas-docs/stable/user_guide/indexing.html#returning-a-view-versus-a-copy\n",
            "  filtered_data_0819['PredictedDelayMinutes'] = filtered_data_0819['PredictedDelay'] / 60\n"
          ]
        }
      ]
    },
    {
      "cell_type": "markdown",
      "source": [
        "分析\\\n",
        "過擬合（Overfitting）:\n",
        "訓練集 MSE 較低，而測試集 MSE 較高，這通常表示模型可能存在過擬合。即模型在訓練資料上表現很好，但在新的、未見過的資料上表現較差。\\\n",
        "\\\n",
        "模型複雜度:\n",
        "多項式迴歸模型（或其他複雜模型）容易導致過度擬合，特別是在訓練集 MSE 遠低於測試集 MSE 時。需要檢查模型的複雜度（例如，多項式的階數、正規化參數等）。\\\n",
        "\\\n",
        "下一步建議\\\n",
        "\\\n",
        "調整模型複雜度:\\\n",
        "減少多項式的階數: 試著降低多項式特徵的階數，這樣可以減少模型的複雜度，從而減輕過擬合。\\\n",
        "\\\n",
        "調整正規化參數: 調整 Ridge 迴歸中的 alpha 值，增加正規化強度可以幫助減少過擬合。\\\n",
        "\\\n",
        "使用交叉驗證:使用交叉驗證（如 K-fold 交叉驗證）來評估模型的表現。這可以幫助確保模型在不同的資料子集上表現穩定，並且可以更全面地評估模型效能。\\\n",
        "\\\n",
        "特徵選擇:重新評估所使用的特徵，去除一些對目標變數預測影響不大的特徵，以提高模型的泛化能力。\\\n",
        "\\\n",
        "增加數據量:如果可能，增加訓練資料量可以幫助模型更好地學習資料的真實模式，從而減少過度擬合。\\\n",
        "\\\n",
        "模型評估:比較其他模型（如線性迴歸、決策樹、隨機森林等）在測試集上的 MSE，找出最適合你資料的模型"
      ],
      "metadata": {
        "id": "rvz0KNWtSB6D"
      }
    },
    {
      "cell_type": "code",
      "source": [],
      "metadata": {
        "id": "ZLFyqJ56S2-S"
      },
      "execution_count": null,
      "outputs": []
    }
  ]
}